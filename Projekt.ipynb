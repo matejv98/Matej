{
 "cells": [
  {
   "cell_type": "markdown",
   "metadata": {},
   "source": [
    "# Programming project\n",
    "\n",
    "### Making a personalized selection of media content\n",
    "\n",
    "The program allows a user to filter media by various criteria, then creates a file listing content that fits their wishes.\n",
    "The database used is pulled from the internet site IMDb and is publically available at this address: https://datasets.imdbws.com In order for this program to work on your computer, you must download the 'title.basics' and 'title.ratings' files."
   ]
  },
  {
   "cell_type": "code",
   "execution_count": 1,
   "metadata": {},
   "outputs": [
    {
     "name": "stderr",
     "output_type": "stream",
     "text": [
      "D:\\Users\\Matej\\anaconda3\\lib\\site-packages\\IPython\\core\\interactiveshell.py:3063: DtypeWarning: Columns (7) have mixed types.Specify dtype option on import or set low_memory=False.\n",
      "  interactivity=interactivity, compiler=compiler, result=result)\n"
     ]
    }
   ],
   "source": [
    "import pandas as pd\n",
    "import numpy as np\n",
    "\n",
    "#Uvoz podatkov\n",
    "data_dat = \"name.basics.tsv\"\n",
    "\n",
    "#definiram podatkovni okvir\n",
    "data_df = pd.read_csv(data_dat, sep='\\t', na_values='\\\\N')\n",
    "\n",
    "#odstranim ponovitve\n",
    "data_df.drop_duplicates(subset =\"tconst\", keep = 'first', inplace = True)"
   ]
  },
  {
   "cell_type": "code",
   "execution_count": 2,
   "metadata": {},
   "outputs": [],
   "source": [
    "#Uvoz dodatnih podatkov\n",
    "ratings_dat = \"title.ratings.tsv\"\n",
    "ratings_df = pd.read_csv(ratings_dat, sep='\\t')\n",
    "ratings_df.drop_duplicates(subset =\"tconst\", keep = 'first', inplace = True)"
   ]
  },
  {
   "cell_type": "code",
   "execution_count": 3,
   "metadata": {},
   "outputs": [],
   "source": [
    "#Združitev podatkov v en podatkovni okvir\n",
    "data_full = pd.merge(data_df, ratings_df, how='right', on='tconst', sort=False)"
   ]
  },
  {
   "cell_type": "code",
   "execution_count": 4,
   "metadata": {},
   "outputs": [],
   "source": [
    "#odstranim nepotrebne kategorije\n",
    "data_short = data_full[[\"primaryTitle\", \"titleType\", \"isAdult\", \"startYear\",\n",
    "                        \"runtimeMinutes\", \"genres\", \"averageRating\", \"numVotes\"]].copy()"
   ]
  },
  {
   "cell_type": "code",
   "execution_count": 5,
   "metadata": {},
   "outputs": [],
   "source": [
    "#preimenujem kategorije v bolj pregledne\n",
    "data_short.rename(columns={'primaryTitle':'Title', 'titleType':'TitleType', 'isAdult':'AdultContent',\n",
    "                           'startYear':'ReleaseYear', 'runtimeMinutes':'Runtime',\n",
    "                           'genres':'Genres', 'averageRating':'Rating', 'numVotes':'NumberOfVotes'}, inplace=True)"
   ]
  },
  {
   "cell_type": "code",
   "execution_count": 6,
   "metadata": {
    "scrolled": false
   },
   "outputs": [
    {
     "name": "stdout",
     "output_type": "stream",
     "text": [
      "Hi! What would you like to watch?\n"
     ]
    }
   ],
   "source": [
    "print('Hi! What would you like to watch?')"
   ]
  },
  {
   "cell_type": "code",
   "execution_count": 7,
   "metadata": {
    "scrolled": true
   },
   "outputs": [
    {
     "name": "stdout",
     "output_type": "stream",
     "text": [
      "Do you wish to filter by type of media? (Answer with yes or no)\n",
      "no\n"
     ]
    }
   ],
   "source": [
    "#poizvedba po vrsti medija\n",
    "\n",
    "while True:\n",
    "    yn1 = input(\"Do you wish to filter by type of media? (Answer with yes or no)\\n\")\n",
    "    \n",
    "    if yn1 == 'yes':\n",
    "        titletype = input(\"What type of media are you interested in?\\n\\\n",
    "Available categories are:\\n\\\n",
    "short, movie, tvMovie, tvSeries, tvEpisode, tvShort, tvMiniSeries, tvSpecial, video, videogame\\n\\\n",
    "Please type in case sensitive. You may choose multiple categories, separated by spaces.\\n\")\n",
    "        \n",
    "        titletype = titletype.split() #razdeli vnos večih kategorij na posamezne predmete\n",
    "        data_type = data_short[data_short.TitleType.isin(titletype)] #poišče vrstice, ki vsebujejo katero od naštetih kategorij\n",
    "        break\n",
    "        \n",
    "    elif yn1 == 'no':\n",
    "        data_type = data_short\n",
    "        break\n",
    "        \n",
    "    else:\n",
    "        print(\"Please input a valid answer.\")\n",
    "        continue"
   ]
  },
  {
   "cell_type": "code",
   "execution_count": 8,
   "metadata": {
    "scrolled": true
   },
   "outputs": [
    {
     "name": "stdout",
     "output_type": "stream",
     "text": [
      "Do you wish to filter by adult content? Enter the number corresponding to your answer.\n",
      "1 - I don't care\n",
      "2 - No adult content\n",
      "3 - Only adult content\n",
      "1\n"
     ]
    }
   ],
   "source": [
    "#poizvedba po vsebini za odrasle\n",
    "\n",
    "while True:\n",
    "    try:\n",
    "        adultcontent = int(input(\"Do you wish to filter by adult content? Enter the number corresponding to your answer.\\n\\\n",
    "1 - I don't care\\n2 - No adult content\\n3 - Only adult content\\n\"))\n",
    "        \n",
    "    except:\n",
    "        print(\"Please input a valid answer.\")\n",
    "        continue\n",
    "        \n",
    "    if adultcontent == 1:\n",
    "        data_adult = data_type\n",
    "        break\n",
    "        \n",
    "    elif adultcontent == 2:\n",
    "        adultcontent = 0\n",
    "        data_adult = data_type[data_type['AdultContent'] == 0]\n",
    "        break\n",
    "        \n",
    "    elif adultcontent == 3:\n",
    "        adultcontent = 1\n",
    "        data_adult = data_type[data_type['AdultContent'] == 1]\n",
    "        break\n",
    "        \n",
    "    else:\n",
    "        print(\"Please input a valid answer.\")\n",
    "        continue"
   ]
  },
  {
   "cell_type": "code",
   "execution_count": 9,
   "metadata": {
    "scrolled": false
   },
   "outputs": [
    {
     "name": "stdout",
     "output_type": "stream",
     "text": [
      "Do you wish to filter by release year? Answer with yes or no.\n",
      "no\n"
     ]
    }
   ],
   "source": [
    "#poizvedba po letnici izida\n",
    "\n",
    "while True:\n",
    "    yn2 = input(\"Do you wish to filter by release year? Answer with yes or no.\\n\")\n",
    "    \n",
    "    if yn2 == 'yes':\n",
    "        try:\n",
    "            year1 = int(input(\"Find films after: (enter year)\\n\"))\n",
    "            year2 = int(input(\"Find films before: (enter year)\\n\"))\n",
    "            data_year = pd.merge(data_type[data_type['ReleaseYear'] >= year1], data_type[data_type['ReleaseYear'] <= year2])\n",
    "            break\n",
    "            \n",
    "        except:\n",
    "            print(\"Please input a valid answer.\")\n",
    "            continue\n",
    "            \n",
    "    elif yn2 == 'no':\n",
    "        data_year = data_adult\n",
    "        break\n",
    "        \n",
    "    else:\n",
    "        print(\"Please input a valid answer.\")\n",
    "        continue"
   ]
  },
  {
   "cell_type": "code",
   "execution_count": 10,
   "metadata": {
    "scrolled": true
   },
   "outputs": [
    {
     "name": "stderr",
     "output_type": "stream",
     "text": [
      "D:\\Users\\Matej\\anaconda3\\lib\\site-packages\\ipykernel_launcher.py:3: UserWarning: Boolean Series key will be reindexed to match DataFrame index.\n",
      "  This is separate from the ipykernel package so we can avoid doing imports until\n"
     ]
    }
   ],
   "source": [
    "#stolpec Runtime je imel dve vrstici z napačno vnešenimi elementi, zato ju odstranim\n",
    "data_year = data_year[data_short.Runtime != 'Talk-Show']\n",
    "data_year = data_year[data_short.Runtime != 'Reality-TV']\n",
    "\n",
    "#nato ga pretvorim v številski tip, zato da lahko z njim računam\n",
    "data_year[\"Runtime\"] = pd.to_numeric(data_year[\"Runtime\"])"
   ]
  },
  {
   "cell_type": "code",
   "execution_count": 11,
   "metadata": {},
   "outputs": [
    {
     "name": "stdout",
     "output_type": "stream",
     "text": [
      "Do you wish to filter by runtime? Answer with yes or no.\n",
      "no\n"
     ]
    }
   ],
   "source": [
    "#poizvedba po dolžini\n",
    "\n",
    "while True:\n",
    "    yn3 = input(\"Do you wish to filter by runtime? Answer with yes or no.\\n\")\n",
    "    \n",
    "    if yn3 == 'yes':\n",
    "        try:\n",
    "            runtime1 = int(input(\"Find media longer than: (enter minutes)\\n\"))\n",
    "            runtime2 = int(input(\"And shorter than: (enter minutes)\\n\"))\n",
    "            data_runtime = pd.merge(data_year[data_year['Runtime'] >= runtime1], data_year[data_year['Runtime'] <= runtime2])\n",
    "            break\n",
    "            \n",
    "        except:\n",
    "            print(\"Please input a valid answer.\")\n",
    "            continue\n",
    "            \n",
    "    elif yn3 == 'no':\n",
    "        data_runtime = data_year\n",
    "        break\n",
    "        \n",
    "    else:\n",
    "        print(\"Please input a valid answer.\")\n",
    "        continue"
   ]
  },
  {
   "cell_type": "code",
   "execution_count": 12,
   "metadata": {
    "scrolled": true
   },
   "outputs": [
    {
     "name": "stdout",
     "output_type": "stream",
     "text": [
      "Do you wish to filter by genre? Answer with yes or no.\n",
      "no\n"
     ]
    }
   ],
   "source": [
    "#poizvedba po žanru\n",
    "\n",
    "while True:\n",
    "    yn4 = input(\"Do you wish to filter by genre? Answer with yes or no.\\n\")\n",
    "    \n",
    "    if yn4 == 'yes':\n",
    "        genres = str(input(\"Available genres are:\\n-Fantasy     -Adventure    -Animation\\\n",
    "   -Action       -Short\\n-Thriller    -Horror       -Musical     -History      -Talk-Show\\n-Documentary -Biography    \\\n",
    "-Western     -Adult        -Comedy\\n-Drama       -Family       -Sci-Fi      -Romance      -Mystery\\n-Music       \\\n",
    "-Crime        -War         -Sport        -Game-Show\\n-News        -Reality-TV   -Film-Noir\\n\\n\\\n",
    "Write down which genre or combination of genres you want to see, separated by spaces.\\n\"))\n",
    "        \n",
    "        genres = genres.split()\n",
    "        if len(genres) == 1:\n",
    "            data_genre = data_runtime[data_runtime.Genres.str.contains(genres[0], case=False, na=False)]\n",
    "            \n",
    "        elif len(genres) == 2:\n",
    "            dgen1 = data_runtime[data_runtime.Genres.str.contains(genres[0], case=False, na=False)]\n",
    "            dgen2 = data_runtime[data_runtime.Genres.str.contains(genres[1], case=False, na=False)]\n",
    "            data_genre = pd.merge(dgen1, dgen2)\n",
    "            \n",
    "        elif len(genres) == 3:\n",
    "            dgen1 = data_runtime[data_runtime.Genres.str.contains(genres[0], case=False, na=False)]\n",
    "            dgen2 = data_runtime[data_runtime.Genres.str.contains(genres[1], case=False, na=False)]\n",
    "            dgen3 = data_runtime[data_runtime.Genres.str.contains(genres[2], case=False, na=False)]\n",
    "            data_genre = pd.merge(dgen1, dgen2)\n",
    "            data_genre = pd.merge(data_genre, dgen3)\n",
    "            \n",
    "        else:\n",
    "            print(\"You may not choose more than 3 categories or leave the field empty.\")\n",
    "            continue\n",
    "        break\n",
    "        \n",
    "    elif yn4 == 'no':\n",
    "        data_genre = data_runtime\n",
    "        break\n",
    "        \n",
    "    else:\n",
    "        print(\"Please input a valid answer.\")\n",
    "        continue"
   ]
  },
  {
   "cell_type": "code",
   "execution_count": 13,
   "metadata": {
    "scrolled": true
   },
   "outputs": [
    {
     "name": "stdout",
     "output_type": "stream",
     "text": [
      "Do you wish to filter by rating? Answer with yes or no.\n",
      "no\n"
     ]
    }
   ],
   "source": [
    "#poizvedba po oceni\n",
    "\n",
    "while True:\n",
    "    yn3 = input(\"Do you wish to filter by rating? Answer with yes or no.\\n\")\n",
    "    \n",
    "    if yn3 == 'yes':\n",
    "        print(\"Enter the range of ratings you wish to see. Ratings are formated like \\\"0.0\\\"\")\n",
    "        try:\n",
    "            rating_low = float(input(\"Lower limit: \"))\n",
    "            rating_up = float(input(\"Upper limit: \"))\n",
    "            \n",
    "        except:\n",
    "            print(\"Please input a valid answer.\")\n",
    "            continue\n",
    "            \n",
    "        data_rating = pd.merge(data_genre[data_genre['Rating'] >= rating_low], data_genre[data_genre['Rating'] <= rating_up])\n",
    "        break\n",
    "        \n",
    "    elif yn3 == 'no':\n",
    "        data_rating = data_genre\n",
    "        break\n",
    "        \n",
    "    else:\n",
    "        print(\"Please input a valid answer.\")\n",
    "        continue"
   ]
  },
  {
   "cell_type": "code",
   "execution_count": 14,
   "metadata": {
    "scrolled": false
   },
   "outputs": [
    {
     "name": "stdout",
     "output_type": "stream",
     "text": [
      "Do you wish to filter by number of votes?\n",
      "If you are filtering by rating, it is recommended to choose a minimum number of votes.\n",
      "Answer with yes or no.\n",
      "no\n"
     ]
    }
   ],
   "source": [
    "#poizvedba po številu ocen\n",
    "\n",
    "while True:\n",
    "    yn3 = input(\"Do you wish to filter by number of votes?\\n\\\n",
    "If you are filtering by rating, it is recommended to choose a minimum number of votes.\\nAnswer with yes or no.\\n\")\n",
    "    \n",
    "    if yn3 == 'yes':\n",
    "        try:\n",
    "            votes = int(input(\"Enter the minimum number of votes: \"))\n",
    "            \n",
    "        except:\n",
    "            print(\"Please input a valid answer.\")\n",
    "            continue\n",
    "            \n",
    "        data_final = data_rating[data_rating['NumberOfVotes'] >= votes]\n",
    "        break\n",
    "        \n",
    "    elif yn3 == 'no':\n",
    "        data_final = data_rating\n",
    "        break\n",
    "        \n",
    "    else:\n",
    "        print(\"Please input a valid answer.\")\n",
    "        continue"
   ]
  },
  {
   "cell_type": "markdown",
   "metadata": {},
   "source": [
    "Thank you for using my program. Your selection will be saved to a csv file named 'Search_results' in the folder you're using this program in."
   ]
  },
  {
   "cell_type": "code",
   "execution_count": 15,
   "metadata": {},
   "outputs": [],
   "source": [
    "#zapis rezultatov v datoteko\n",
    "\n",
    "data_final.to_csv('Search_results.csv')"
   ]
  },
  {
   "cell_type": "code",
   "execution_count": null,
   "metadata": {},
   "outputs": [],
   "source": []
  }
 ],
 "metadata": {
  "kernelspec": {
   "display_name": "Python 3",
   "language": "python",
   "name": "python3"
  },
  "language_info": {
   "codemirror_mode": {
    "name": "ipython",
    "version": 3
   },
   "file_extension": ".py",
   "mimetype": "text/x-python",
   "name": "python",
   "nbconvert_exporter": "python",
   "pygments_lexer": "ipython3",
   "version": "3.7.6"
  }
 },
 "nbformat": 4,
 "nbformat_minor": 4
}
